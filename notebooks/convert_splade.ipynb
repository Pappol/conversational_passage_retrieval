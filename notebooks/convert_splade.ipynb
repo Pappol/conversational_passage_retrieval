{
 "cells": [
  {
   "cell_type": "code",
   "execution_count": 47,
   "metadata": {},
   "outputs": [],
   "source": [
    "import pandas as pd\n",
    "\n",
    "type = 'test'\n",
    "\n",
    "# Replace these file paths with your actual file paths\n",
    "tsv_input_file_path = f'data/run.queries_{type}_gpt4_splade.tsv'\n",
    "csv_mapping_file_path = f'data/queries_{type}_gpt4.csv'\n",
    "output_file_path = f'data/trec_runfile_{type}_qr_splade.txt'"
   ]
  },
  {
   "cell_type": "code",
   "execution_count": 48,
   "metadata": {},
   "outputs": [
    {
     "name": "stdout",
     "output_type": "stream",
     "text": [
      "Index(['qid', 'query', 'topic_number', 'turn_number'], dtype='object')\n",
      "{0: '1_1', 1: '1_2', 2: '1_3', 3: '1_4', 4: '1_5', 5: '1_6', 6: '1_7', 7: '1_8', 8: '1_9', 9: '1_10', 10: '1_11', 11: '1_12', 12: '2_1', 13: '2_2', 14: '2_3', 15: '2_4', 16: '2_5', 17: '2_6', 18: '2_7', 19: '2_8', 20: '2_9', 21: '2_10', 22: '2_11', 23: '7_1', 24: '7_2', 25: '7_3', 26: '7_4', 27: '7_5', 28: '7_6', 29: '7_7', 30: '7_8', 31: '7_9', 32: '7_10', 33: '7_11', 34: '15_1', 35: '15_2', 36: '15_3', 37: '15_4', 38: '15_5', 39: '15_6', 40: '15_7', 41: '23_1', 42: '23_2', 43: '23_3', 44: '23_4', 45: '23_5', 46: '23_6', 47: '23_7', 48: '23_8', 49: '25_1', 50: '25_2', 51: '25_3', 52: '25_4', 53: '25_5', 54: '25_6', 55: '25_7', 56: '25_8', 57: '25_9', 58: '31_1', 59: '31_2', 60: '31_3', 61: '31_4', 62: '31_5', 63: '31_6', 64: '31_7', 65: '31_8', 66: '31_9', 67: '32_1', 68: '32_2', 69: '32_3', 70: '32_4', 71: '32_5', 72: '32_6', 73: '32_7', 74: '32_8', 75: '32_9', 76: '32_10', 77: '32_11', 78: '33_1', 79: '33_2', 80: '33_3', 81: '33_4', 82: '33_5', 83: '33_6', 84: '33_7', 85: '33_8', 86: '34_1', 87: '34_2', 88: '34_3', 89: '34_4', 90: '34_5', 91: '34_6', 92: '34_7', 93: '34_8', 94: '37_1', 95: '37_2', 96: '37_3', 97: '37_4', 98: '37_5', 99: '37_6', 100: '37_7', 101: '37_8', 102: '59_1', 103: '59_2', 104: '59_3', 105: '59_4', 106: '59_5', 107: '59_6', 108: '59_7', 109: '59_8', 110: '67_1', 111: '67_2', 112: '67_3', 113: '67_4', 114: '67_5', 115: '67_6', 116: '67_7', 117: '67_8', 118: '67_9', 119: '67_10', 120: '67_11', 121: '68_1', 122: '68_2', 123: '68_3', 124: '68_4', 125: '68_5', 126: '68_6', 127: '68_7', 128: '68_8', 129: '68_9', 130: '68_10', 131: '68_11', 132: '77_1', 133: '77_2', 134: '77_3', 135: '77_4', 136: '77_5', 137: '77_6', 138: '77_7', 139: '77_8', 140: '78_1', 141: '78_2', 142: '78_3', 143: '78_4', 144: '78_5', 145: '78_6', 146: '78_7', 147: '78_8', 148: '81_1', 149: '81_2', 150: '81_3', 151: '81_4', 152: '81_5', 153: '81_6', 154: '81_7', 155: '81_8', 156: '87_1', 157: '87_2', 158: '87_3', 159: '87_4', 160: '87_5', 161: '87_7', 162: '87_8', 163: '87_9', 164: '88_1', 165: '88_2', 166: '88_3', 167: '88_4', 168: '88_5', 169: '88_6', 170: '88_7', 171: '88_8', 172: '88_9', 173: '88_10', 174: '89_1', 175: '89_2', 176: '89_3', 177: '89_4', 178: '89_5', 179: '89_6', 180: '89_7', 181: '89_8', 182: '89_9', 183: '89_10', 184: '89_11', 185: '93_1', 186: '93_2', 187: '93_3', 188: '93_4', 189: '93_5', 190: '93_6', 191: '94_1', 192: '94_2', 193: '94_3', 194: '94_4', 195: '94_5', 196: '94_6', 197: '94_7', 198: '94_8', 199: '95_1', 200: '95_2', 201: '95_3', 202: '95_4', 203: '95_5', 204: '95_6', 205: '95_7', 206: '95_8', 207: '97_1', 208: '97_2', 209: '97_3', 210: '97_4', 211: '97_5', 212: '97_6', 213: '97_7', 214: '97_8', 215: '98_1', 216: '98_2', 217: '98_3', 218: '98_4', 219: '98_5', 220: '98_6', 221: '98_7', 222: '98_8', 223: '99_1', 224: '99_2', 225: '99_3', 226: '99_4', 227: '99_5', 228: '99_6', 229: '99_7', 230: '99_8', 231: '100_1', 232: '100_2', 233: '100_3', 234: '100_4', 235: '100_5', 236: '100_6', 237: '100_7', 238: '100_8', 239: '102_1', 240: '102_2', 241: '102_3', 242: '102_4', 243: '102_5', 244: '102_6', 245: '102_7', 246: '102_8', 247: '102_9'}\n"
     ]
    }
   ],
   "source": [
    "# Step 1: Read the CSV file into a DataFrame and create a mapping dictionary\n",
    "mapping_df = pd.read_csv(csv_mapping_file_path)\n",
    "print(mapping_df.columns)  # Print the columns to confirm their names\n",
    "\n",
    "# Create a dictionary mapping the query IDs to the queries\n",
    "mapping_dict = dict(zip(mapping_df.index, mapping_df['qid']))\n",
    "print(mapping_dict)\n"
   ]
  },
  {
   "cell_type": "code",
   "execution_count": 49,
   "metadata": {},
   "outputs": [
    {
     "name": "stdout",
     "output_type": "stream",
     "text": [
      "   qid   doc_id  rank\n",
      "0    0  1815734     1\n",
      "1    0  2979435     2\n",
      "2    0   696205     3\n",
      "3    0  1815740     4\n",
      "4    0    54129     5\n"
     ]
    }
   ],
   "source": [
    "tsv_df = pd.read_csv(tsv_input_file_path, sep='\\t', header=None, names=['qid', 'doc_id', 'rank'])\n",
    "print(tsv_df.head())"
   ]
  },
  {
   "cell_type": "code",
   "execution_count": 50,
   "metadata": {},
   "outputs": [
    {
     "name": "stdout",
     "output_type": "stream",
     "text": [
      "   qid   doc_id  rank\n",
      "0  1_1  1815734     1\n",
      "1  1_1  2979435     2\n",
      "2  1_1   696205     3\n",
      "3  1_1  1815740     4\n",
      "4  1_1    54129     5\n"
     ]
    }
   ],
   "source": [
    "def map_to_qid(row):\n",
    "    return mapping_dict.get(row['qid'], 'unknown')\n",
    "\n",
    "tsv_df['qid'] = tsv_df.apply(map_to_qid, axis=1)\n",
    "\n",
    "print(tsv_df.head())\n"
   ]
  },
  {
   "cell_type": "code",
   "execution_count": 51,
   "metadata": {},
   "outputs": [
    {
     "name": "stdout",
     "output_type": "stream",
     "text": [
      "   qid   doc_id  rank  Q0  score  method\n",
      "0  1_1  1815734     1  Q0  0.999  SPLADE\n",
      "1  1_1  2979435     2  Q0  0.998  SPLADE\n",
      "2  1_1   696205     3  Q0  0.997  SPLADE\n",
      "3  1_1  1815740     4  Q0  0.996  SPLADE\n",
      "4  1_1    54129     5  Q0  0.995  SPLADE\n"
     ]
    }
   ],
   "source": [
    "tsv_df['Q0'] = 'Q0'\n",
    "tsv_df['score'] = 1 + tsv_df['rank'] * -0.001\n",
    "tsv_df['method'] = 'SPLADE'\n",
    "\n",
    "print(tsv_df.head())"
   ]
  },
  {
   "cell_type": "code",
   "execution_count": 52,
   "metadata": {},
   "outputs": [],
   "source": [
    "output_df = tsv_df[['qid', 'Q0', 'doc_id', 'rank', 'score', 'method']]\n",
    "output_df.to_csv(output_file_path, sep=' ', index=False, header=False, mode='w')"
   ]
  }
 ],
 "metadata": {
  "kernelspec": {
   "display_name": "Python 3",
   "language": "python",
   "name": "python3"
  },
  "language_info": {
   "codemirror_mode": {
    "name": "ipython",
    "version": 3
   },
   "file_extension": ".py",
   "mimetype": "text/x-python",
   "name": "python",
   "nbconvert_exporter": "python",
   "pygments_lexer": "ipython3",
   "version": "3.9.6"
  }
 },
 "nbformat": 4,
 "nbformat_minor": 2
}
