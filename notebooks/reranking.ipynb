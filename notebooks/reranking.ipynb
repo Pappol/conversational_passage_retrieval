{
 "cells": [
  {
   "cell_type": "code",
   "execution_count": 1,
   "metadata": {},
   "outputs": [],
   "source": [
    "# path to the folder containing the ordered list of documents\n",
    "type = 'test'\n",
    "ranker = 'splade'\n",
    "\n",
    "res_path = f'data/trec_runfile_{type}_qr_{ranker}.txt'\n",
    "\n",
    "# path for the query\n",
    "query_path = f'data/queries_{type}_gpt4.csv'\n",
    "\n",
    "# path for the documents\n",
    "docs_path = 'data/collection.tsv'\n",
    "\n",
    "# path to save the file\n",
    "out_path = f'data/trec_runfile_{type}_qr_{ranker}_reranked.txt'"
   ]
  },
  {
   "cell_type": "code",
   "execution_count": 2,
   "metadata": {},
   "outputs": [
    {
     "data": {
      "application/vnd.jupyter.widget-view+json": {
       "model_id": "8709478c8a324ab784131d08710959e9",
       "version_major": 2,
       "version_minor": 0
      },
      "text/plain": [
       "Downloading (…)okenizer_config.json:   0%|          | 0.00/39.0 [00:00<?, ?B/s]"
      ]
     },
     "metadata": {},
     "output_type": "display_data"
    },
    {
     "data": {
      "application/vnd.jupyter.widget-view+json": {
       "model_id": "385b752e436140a080998bd2d5925c29",
       "version_major": 2,
       "version_minor": 0
      },
      "text/plain": [
       "Downloading (…)lve/main/config.json:   0%|          | 0.00/413 [00:00<?, ?B/s]"
      ]
     },
     "metadata": {},
     "output_type": "display_data"
    },
    {
     "data": {
      "application/vnd.jupyter.widget-view+json": {
       "model_id": "06fd485de2744fb8bc1a9ef36b827e80",
       "version_major": 2,
       "version_minor": 0
      },
      "text/plain": [
       "Downloading (…)solve/main/vocab.txt:   0%|          | 0.00/232k [00:00<?, ?B/s]"
      ]
     },
     "metadata": {},
     "output_type": "display_data"
    },
    {
     "data": {
      "application/vnd.jupyter.widget-view+json": {
       "model_id": "5b3c3c9d49644916818fcc93c4102837",
       "version_major": 2,
       "version_minor": 0
      },
      "text/plain": [
       "Downloading (…)cial_tokens_map.json:   0%|          | 0.00/112 [00:00<?, ?B/s]"
      ]
     },
     "metadata": {},
     "output_type": "display_data"
    },
    {
     "data": {
      "application/vnd.jupyter.widget-view+json": {
       "model_id": "ef6ee76c0f6c4d3c81d47670c68637f1",
       "version_major": 2,
       "version_minor": 0
      },
      "text/plain": [
       "Downloading pytorch_model.bin:   0%|          | 0.00/1.34G [00:00<?, ?B/s]"
      ]
     },
     "metadata": {},
     "output_type": "display_data"
    }
   ],
   "source": [
    "# import the reranker\n",
    "\n",
    "from transformers import AutoTokenizer, AutoModelForSequenceClassification\n",
    "\n",
    "tokenizer = AutoTokenizer.from_pretrained(\"amberoad/bert-multilingual-passage-reranking-msmarco\")\n",
    "# tokenizer = AutoTokenizer.from_pretrained(\"nboost/pt-bert-large-msmarco\")\n",
    "\n",
    "model = AutoModelForSequenceClassification.from_pretrained(\"amberoad/bert-multilingual-passage-reranking-msmarco\")\n",
    "# model = AutoModelForSequenceClassification.from_pretrained(\"nboost/pt-bert-large-msmarco\")"
   ]
  },
  {
   "cell_type": "code",
   "execution_count": 3,
   "metadata": {},
   "outputs": [],
   "source": [
    "# open res_path and divide it into subcollection based on the first column\n",
    "\n",
    "from tqdm import tqdm\n",
    "import pandas as pd\n",
    "\n",
    "results = pd.read_csv(res_path, sep=' ', header=None)\n",
    "results.columns = ['query_id', 'Q0', 'doc_id', 'rank', 'score', 'run_name']\n",
    "\n",
    "queries = pd.read_csv(query_path)\n",
    "# make qid index\n",
    "queries = queries.set_index('qid')\n",
    "\n",
    "collection = pd.read_csv(docs_path, sep='\\t', header=None)\n",
    "collection.columns = ['doc_id', 'text']\n",
    "# make doc_id index\n",
    "collection = collection.set_index('doc_id')"
   ]
  },
  {
   "cell_type": "code",
   "execution_count": 4,
   "metadata": {},
   "outputs": [],
   "source": [
    "from collections import defaultdict\n",
    "\n",
    "# create a dictionary with key = query_id and value = list of doc_id\n",
    "# the list of doc_id is ordered by rank\n",
    "\n",
    "res_dict = defaultdict(list)    \n",
    "for index, row in results.iterrows():\n",
    "    res_dict[row['query_id']].append(row['doc_id'])"
   ]
  },
  {
   "cell_type": "code",
   "execution_count": 11,
   "metadata": {},
   "outputs": [
    {
     "name": "stderr",
     "output_type": "stream",
     "text": [
      "  0%|          | 0/248 [00:00<?, ?it/s]"
     ]
    },
    {
     "name": "stdout",
     "output_type": "stream",
     "text": [
      "Query 1_1 already in the file\n",
      "Query 1_2 already in the file\n",
      "Query 1_3 already in the file\n",
      "Query 1_4 already in the file\n",
      "Query 1_5 already in the file\n",
      "Query 1_6 already in the file\n",
      "Query 1_7 already in the file\n",
      "Query 1_8 already in the file\n",
      "Query 1_9 already in the file\n",
      "Query 1_10 already in the file\n",
      "Query 1_11 already in the file\n",
      "Query 1_12 already in the file\n",
      "Query 2_1 already in the file\n",
      "Query 2_2 already in the file\n",
      "Query 2_3 already in the file\n",
      "Query 2_4 already in the file\n",
      "Query 2_5 already in the file\n",
      "Query 2_6 already in the file\n",
      "Query 2_7 already in the file\n",
      "Query 2_8 already in the file\n",
      "Query 2_9 already in the file\n",
      "Query 2_10 already in the file\n",
      "Query 2_11 already in the file\n",
      "Query 7_1 already in the file\n",
      "Query 7_2 already in the file\n",
      "Query 7_3 already in the file\n",
      "Query 7_4 already in the file\n",
      "Query 7_5 already in the file\n",
      "Query 7_6 already in the file\n",
      "Query 7_7 already in the file\n",
      "Query 7_8 already in the file\n"
     ]
    },
    {
     "name": "stderr",
     "output_type": "stream",
     "text": [
      "100%|██████████| 248/248 [2:19:10<00:00, 33.67s/it]  \n"
     ]
    }
   ],
   "source": [
    "import os\n",
    "\n",
    "sorted_df = pd.DataFrame(columns=['query_id','Q0', 'doc_id', 'rank', 'score', 'model'])\n",
    "\n",
    "device = 'mps'\n",
    "model = model.to(device)\n",
    "\n",
    "# if file does not exist create it\n",
    "if not os.path.isfile(out_path):\n",
    "    with open(out_path, 'w') as f:\n",
    "        f.write('')\n",
    "\n",
    "for key, doc_ids in tqdm(res_dict.items()):\n",
    "    # if the file already contains the key, skip it\n",
    "    with open(out_path, 'r') as f:\n",
    "        if key in f.read():\n",
    "            print(f'Query {key} already in the file')\n",
    "            continue\n",
    "        \n",
    "    # read the query\n",
    "    query = queries.loc[key]['query']\n",
    "    scores = {}\n",
    "    for doc_id in doc_ids:\n",
    "        # read the document\n",
    "        doc = collection.loc[doc_id]['text']\n",
    "        # encode the query and the document\n",
    "        encoding = tokenizer(query, doc, return_tensors='pt', truncation=True).to(device)\n",
    "\n",
    "        # truncate the document to 512 tokens\n",
    "        if encoding['input_ids'].shape[1] > 512:\n",
    "            encoding['input_ids'] = encoding['input_ids'][:, :512]\n",
    "            encoding['token_type_ids'] = encoding['token_type_ids'][:, :512]\n",
    "            encoding['attention_mask'] = encoding['attention_mask'][:, :512]\n",
    "\n",
    "        # rerank the document\n",
    "        output = model(**encoding)\n",
    "        # update the score in the dataframe\n",
    "        scores[doc_id] = output.logits[0][1].item()\n",
    "\n",
    "    # sort the dictionary by value\n",
    "    sorted_scores = sorted(scores.items(), key=lambda x: x[1], reverse=True)\n",
    "    # update the dataframe\n",
    "    with open(out_path, 'a') as f:\n",
    "        for i, (doc_id, score) in enumerate(sorted_scores):\n",
    "            f.write(f'{key} Q0 {doc_id} {i+1} {score} bert \\n')"
   ]
  }
 ],
 "metadata": {
  "kernelspec": {
   "display_name": "Python 3",
   "language": "python",
   "name": "python3"
  },
  "language_info": {
   "codemirror_mode": {
    "name": "ipython",
    "version": 3
   },
   "file_extension": ".py",
   "mimetype": "text/x-python",
   "name": "python",
   "nbconvert_exporter": "python",
   "pygments_lexer": "ipython3",
   "version": "3.9.6"
  }
 },
 "nbformat": 4,
 "nbformat_minor": 2
}
