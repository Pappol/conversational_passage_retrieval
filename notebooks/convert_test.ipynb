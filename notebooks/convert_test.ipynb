{
 "cells": [
  {
   "cell_type": "code",
   "execution_count": 1,
   "metadata": {},
   "outputs": [
    {
     "data": {
      "text/plain": [
       "'data/trec_runfile_test_qr_splade_reranked.csv'"
      ]
     },
     "execution_count": 1,
     "metadata": {},
     "output_type": "execute_result"
    }
   ],
   "source": [
    "import csv\n",
    "\n",
    "output_lines = []\n",
    "\n",
    "file_path = \"data/trec_runfile_test_qr_splade_reranked.txt\"\n",
    "output_file_path = \"data/trec_runfile_test_qr_splade_reranked.csv\"\n",
    "\n",
    "with open(file_path, \"r\") as file:\n",
    "    for line in file:\n",
    "        parts = line.strip().split()\n",
    "        qid, docid = parts[0], parts[2]\n",
    "        output_lines.append(f\"{qid},{docid}\")\n",
    "\n",
    "with open(output_file_path, \"w\", newline='') as csvfile:\n",
    "    writer = csv.writer(csvfile)\n",
    "    for line in output_lines:\n",
    "        writer.writerow(line.split(','))\n",
    "\n",
    "output_file_path"
   ]
  }
 ],
 "metadata": {
  "kernelspec": {
   "display_name": "Python 3",
   "language": "python",
   "name": "python3"
  },
  "language_info": {
   "codemirror_mode": {
    "name": "ipython",
    "version": 3
   },
   "file_extension": ".py",
   "mimetype": "text/x-python",
   "name": "python",
   "nbconvert_exporter": "python",
   "pygments_lexer": "ipython3",
   "version": "3.9.6"
  }
 },
 "nbformat": 4,
 "nbformat_minor": 2
}
