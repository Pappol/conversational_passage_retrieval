{
 "cells": [
  {
   "cell_type": "code",
   "execution_count": 1,
   "metadata": {},
   "outputs": [],
   "source": [
    "import pandas as pd\n",
    "import numpy as np\n",
    "import matplotlib.pyplot as plt\n",
    "import nltk\n",
    "from nltk.corpus import stopwords\n",
    "from nltk.tokenize import word_tokenize\n",
    "import multiprocessing\n",
    "import os.path\n",
    "\n",
    "# Downloading stopwords (just a mock step since we don't have internet access here)\n",
    "# nltk.download('stopwords')\n",
    "# nltk.download('punkt')"
   ]
  },
  {
   "cell_type": "code",
   "execution_count": 6,
   "metadata": {},
   "outputs": [
    {
     "data": {
      "text/html": [
       "<div>\n",
       "<style scoped>\n",
       "    .dataframe tbody tr th:only-of-type {\n",
       "        vertical-align: middle;\n",
       "    }\n",
       "\n",
       "    .dataframe tbody tr th {\n",
       "        vertical-align: top;\n",
       "    }\n",
       "\n",
       "    .dataframe thead th {\n",
       "        text-align: right;\n",
       "    }\n",
       "</style>\n",
       "<table border=\"1\" class=\"dataframe\">\n",
       "  <thead>\n",
       "    <tr style=\"text-align: right;\">\n",
       "      <th></th>\n",
       "      <th>qid</th>\n",
       "      <th>query</th>\n",
       "      <th>topic_number</th>\n",
       "      <th>turn_number</th>\n",
       "    </tr>\n",
       "  </thead>\n",
       "  <tbody>\n",
       "    <tr>\n",
       "      <th>0</th>\n",
       "      <td>4_1</td>\n",
       "      <td>What was the neolithic revolution?</td>\n",
       "      <td>4</td>\n",
       "      <td>1</td>\n",
       "    </tr>\n",
       "    <tr>\n",
       "      <th>1</th>\n",
       "      <td>4_2</td>\n",
       "      <td>When did it start and end?</td>\n",
       "      <td>4</td>\n",
       "      <td>2</td>\n",
       "    </tr>\n",
       "    <tr>\n",
       "      <th>2</th>\n",
       "      <td>4_3</td>\n",
       "      <td>Why did it start?</td>\n",
       "      <td>4</td>\n",
       "      <td>3</td>\n",
       "    </tr>\n",
       "    <tr>\n",
       "      <th>3</th>\n",
       "      <td>4_4</td>\n",
       "      <td>What did the neolithic invent?</td>\n",
       "      <td>4</td>\n",
       "      <td>4</td>\n",
       "    </tr>\n",
       "    <tr>\n",
       "      <th>4</th>\n",
       "      <td>4_5</td>\n",
       "      <td>What tools were used?</td>\n",
       "      <td>4</td>\n",
       "      <td>5</td>\n",
       "    </tr>\n",
       "  </tbody>\n",
       "</table>\n",
       "</div>"
      ],
      "text/plain": [
       "   qid                               query  topic_number  turn_number\n",
       "0  4_1  What was the neolithic revolution?             4            1\n",
       "1  4_2          When did it start and end?             4            2\n",
       "2  4_3                   Why did it start?             4            3\n",
       "3  4_4      What did the neolithic invent?             4            4\n",
       "4  4_5               What tools were used?             4            5"
      ]
     },
     "execution_count": 6,
     "metadata": {},
     "output_type": "execute_result"
    }
   ],
   "source": []
  },
  {
   "cell_type": "code",
   "execution_count": 11,
   "metadata": {},
   "outputs": [
    {
     "name": "stdout",
     "output_type": "stream",
     "text": [
      "Loading preprocessed train queries...\n",
      "Loading preprocessed test queries...\n",
      "Preprocessing collection...\n"
     ]
    }
   ],
   "source": [
    "from joblib import Parallel, delayed\n",
    "\n",
    "def preprocess_text(text):\n",
    "    \"\"\"Tokenize, lowercase, and remove stopwords from the text.\"\"\"\n",
    "    tokens = word_tokenize(text.lower())\n",
    "    tok_sent = [word for word in tokens if word not in stop_words and word.isalpha()]\n",
    "    return tok_sent #' '.join(tok_sent)\n",
    "\n",
    "def multiprocess_preprocess_joblib(data, column_name):\n",
    "    \"\"\"Preprocess data using multiple processes with joblib.\"\"\"\n",
    "    num_processes = 68\n",
    "    \n",
    "    # Using joblib's Parallel and delayed to run preprocessing in parallel\n",
    "    processed_data = Parallel(n_jobs=num_processes)(delayed(preprocess_text)(text) for text in data[column_name])\n",
    "    return processed_data\n",
    "\n",
    "# We'll use a predefined list of English stopwords.\n",
    "stop_words = set(stopwords.words('english'))\n",
    "# remove 'about' from stopwords\n",
    "stop_words.remove('about')\n",
    "\n",
    "if not os.path.isfile('data/preprocessed_queries_train.csv'):\n",
    "    print('Preprocessing train queries...')\n",
    "    train_querys = pd.read_csv('data/queries_train.csv', sep=',')\n",
    "    train_querys['processed_query'] = multiprocess_preprocess_joblib(train_querys, 'query')\n",
    "    train_querys = train_querys.drop(columns=['query'])\n",
    "    train_querys = train_querys.rename(columns={'processed_query': 'query'})\n",
    "    train_querys.to_csv('data/preprocessed_queries_train.csv', index=False)\n",
    "else: \n",
    "    print('Loading preprocessed train queries...')\n",
    "    train_querys = pd.read_csv('data/preprocessed_queries_train.csv')\n",
    "\n",
    "\n",
    "if not os.path.isfile('data/preprocessed_queries_test.csv'):\n",
    "    print('Preprocessing test queries...')\n",
    "    test_querys = pd.read_csv('data/queries_test.csv', sep=',')\n",
    "    test_querys['processed_query'] = multiprocess_preprocess_joblib(test_querys, 'query')\n",
    "    test_querys = test_querys.drop(columns=['query'])\n",
    "    test_querys = test_querys.rename(columns={'processed_query': 'query'})\n",
    "    test_querys.to_csv('data/preprocessed_queries_test.csv', index=False)\n",
    "else:\n",
    "    print('Loading preprocessed test queries...')\n",
    "    test_querys = pd.read_csv('data/preprocessed_queries_test.csv')\n",
    "\n",
    "# if data/preprocessed_collection.tsv does not exist, create it\n",
    "if not os.path.isfile('data/preprocessed_collection.tsv'):\n",
    "    print('Preprocessing collection...')\n",
    "    dataset = pd.read_csv('data/collection.tsv', sep='\\t', names=['id', 'text'])\n",
    "    dataset['processed_text'] = multiprocess_preprocess_joblib(dataset, 'text')\n",
    "    dataset = dataset.drop(columns=['text'])\n",
    "    dataset = dataset.rename(columns={'processed_text': 'text'})\n",
    "    dataset.to_csv('data/preprocessed_collection.tsv', sep='\\t', index=False)\n",
    "    # dropna but preserve ids\n",
    "    dataset = dataset.dropna()\n",
    "else:\n",
    "    print('Loading preprocessed collection...')\n",
    "    dataset = pd.read_csv('data/preprocessed_collection.tsv', sep='\\t')\n",
    "    dataset = dataset.dropna()"
   ]
  },
  {
   "cell_type": "code",
   "execution_count": 14,
   "metadata": {},
   "outputs": [
    {
     "data": {
      "text/plain": [
       "8841823"
      ]
     },
     "execution_count": 14,
     "metadata": {},
     "output_type": "execute_result"
    }
   ],
   "source": [
    "len(dataset)"
   ]
  },
  {
   "cell_type": "code",
   "execution_count": 15,
   "metadata": {},
   "outputs": [
    {
     "name": "stdout",
     "output_type": "stream",
     "text": [
      "Index data not present, creating...\n"
     ]
    }
   ],
   "source": [
    "from rank_bm25 import BM25Okapi\n",
    "import pickle\n",
    "\n",
    "# if piccke index is not present load it\n",
    "if not os.path.isfile('data/bm25_index.pkl'):\n",
    "    print(\"Index data not present, creating...\")\n",
    "    bm25 = BM25Okapi(dataset['text'])\n",
    "    with open('data/bm25_index.pickle', 'wb') as handle:\n",
    "        pickle.dump(bm25, handle, protocol=pickle.HIGHEST_PROTOCOL)\n",
    "else:\n",
    "    print(\"Loading index data...\")\n",
    "    with open('data/bm25_index.pkl', 'rb') as f:\n",
    "        bm25 = pickle.load(f)"
   ]
  },
  {
   "cell_type": "code",
   "execution_count": 17,
   "metadata": {},
   "outputs": [
    {
     "name": "stderr",
     "output_type": "stream",
     "text": [
      "100%|██████████| 248/248 [25:30<00:00,  6.17s/it] \n"
     ]
    },
    {
     "ename": "FileNotFoundError",
     "evalue": "[Errno 2] No such file or directory: '/data/trec_runfile_parallel.txt'",
     "output_type": "error",
     "traceback": [
      "\u001b[0;31m---------------------------------------------------------------------------\u001b[0m",
      "\u001b[0;31mFileNotFoundError\u001b[0m                         Traceback (most recent call last)",
      "\u001b[1;32m/Users/user/Desktop/Uni/Text mining/Project/conversational_passage_retrieval/baseline.ipynb Cella 6\u001b[0m line \u001b[0;36m4\n\u001b[1;32m     <a href='vscode-notebook-cell:/Users/user/Desktop/Uni/Text%20mining/Project/conversational_passage_retrieval/baseline.ipynb#W3sZmlsZQ%3D%3D?line=39'>40</a>\u001b[0m \u001b[39m# Generate the TREC runfile using the results\u001b[39;00m\n\u001b[1;32m     <a href='vscode-notebook-cell:/Users/user/Desktop/Uni/Text%20mining/Project/conversational_passage_retrieval/baseline.ipynb#W3sZmlsZQ%3D%3D?line=40'>41</a>\u001b[0m output_filename_parallel \u001b[39m=\u001b[39m \u001b[39m\"\u001b[39m\u001b[39m/data/trec_runfile_parallel.txt\u001b[39m\u001b[39m\"\u001b[39m\n\u001b[0;32m---> <a href='vscode-notebook-cell:/Users/user/Desktop/Uni/Text%20mining/Project/conversational_passage_retrieval/baseline.ipynb#W3sZmlsZQ%3D%3D?line=41'>42</a>\u001b[0m generate_trec_runfile(ranking_results_dict, run_id_new, output_filename_parallel)\n\u001b[1;32m     <a href='vscode-notebook-cell:/Users/user/Desktop/Uni/Text%20mining/Project/conversational_passage_retrieval/baseline.ipynb#W3sZmlsZQ%3D%3D?line=43'>44</a>\u001b[0m output_filename_parallel\n",
      "\u001b[1;32m/Users/user/Desktop/Uni/Text mining/Project/conversational_passage_retrieval/baseline.ipynb Cella 6\u001b[0m line \u001b[0;36m4\n\u001b[1;32m      <a href='vscode-notebook-cell:/Users/user/Desktop/Uni/Text%20mining/Project/conversational_passage_retrieval/baseline.ipynb#W3sZmlsZQ%3D%3D?line=1'>2</a>\u001b[0m \u001b[39mdef\u001b[39;00m \u001b[39mgenerate_trec_runfile\u001b[39m(ranking_results, run_identifier, output_file):\n\u001b[1;32m      <a href='vscode-notebook-cell:/Users/user/Desktop/Uni/Text%20mining/Project/conversational_passage_retrieval/baseline.ipynb#W3sZmlsZQ%3D%3D?line=2'>3</a>\u001b[0m     \u001b[39m\"\"\"Generate a TREC runfile using the given ranking results.\"\"\"\u001b[39;00m\n\u001b[0;32m----> <a href='vscode-notebook-cell:/Users/user/Desktop/Uni/Text%20mining/Project/conversational_passage_retrieval/baseline.ipynb#W3sZmlsZQ%3D%3D?line=3'>4</a>\u001b[0m     \u001b[39mwith\u001b[39;00m \u001b[39mopen\u001b[39;49m(output_file, \u001b[39m'\u001b[39;49m\u001b[39mw\u001b[39;49m\u001b[39m'\u001b[39;49m) \u001b[39mas\u001b[39;00m file:\n\u001b[1;32m      <a href='vscode-notebook-cell:/Users/user/Desktop/Uni/Text%20mining/Project/conversational_passage_retrieval/baseline.ipynb#W3sZmlsZQ%3D%3D?line=4'>5</a>\u001b[0m         \u001b[39mfor\u001b[39;00m qid, passage_indices \u001b[39min\u001b[39;00m ranking_results\u001b[39m.\u001b[39mitems():\n\u001b[1;32m      <a href='vscode-notebook-cell:/Users/user/Desktop/Uni/Text%20mining/Project/conversational_passage_retrieval/baseline.ipynb#W3sZmlsZQ%3D%3D?line=5'>6</a>\u001b[0m             \u001b[39mfor\u001b[39;00m rank, passage_idx \u001b[39min\u001b[39;00m \u001b[39menumerate\u001b[39m(passage_indices, \u001b[39m1\u001b[39m):\n\u001b[1;32m      <a href='vscode-notebook-cell:/Users/user/Desktop/Uni/Text%20mining/Project/conversational_passage_retrieval/baseline.ipynb#W3sZmlsZQ%3D%3D?line=6'>7</a>\u001b[0m                 \u001b[39m# Construct the turn identifier from the qid\u001b[39;00m\n",
      "File \u001b[0;32m~/test/pytorch-ane/env/lib/python3.9/site-packages/IPython/core/interactiveshell.py:282\u001b[0m, in \u001b[0;36m_modified_open\u001b[0;34m(file, *args, **kwargs)\u001b[0m\n\u001b[1;32m    275\u001b[0m \u001b[39mif\u001b[39;00m file \u001b[39min\u001b[39;00m {\u001b[39m0\u001b[39m, \u001b[39m1\u001b[39m, \u001b[39m2\u001b[39m}:\n\u001b[1;32m    276\u001b[0m     \u001b[39mraise\u001b[39;00m \u001b[39mValueError\u001b[39;00m(\n\u001b[1;32m    277\u001b[0m         \u001b[39mf\u001b[39m\u001b[39m\"\u001b[39m\u001b[39mIPython won\u001b[39m\u001b[39m'\u001b[39m\u001b[39mt let you open fd=\u001b[39m\u001b[39m{\u001b[39;00mfile\u001b[39m}\u001b[39;00m\u001b[39m by default \u001b[39m\u001b[39m\"\u001b[39m\n\u001b[1;32m    278\u001b[0m         \u001b[39m\"\u001b[39m\u001b[39mas it is likely to crash IPython. If you know what you are doing, \u001b[39m\u001b[39m\"\u001b[39m\n\u001b[1;32m    279\u001b[0m         \u001b[39m\"\u001b[39m\u001b[39myou can use builtins\u001b[39m\u001b[39m'\u001b[39m\u001b[39m open.\u001b[39m\u001b[39m\"\u001b[39m\n\u001b[1;32m    280\u001b[0m     )\n\u001b[0;32m--> 282\u001b[0m \u001b[39mreturn\u001b[39;00m io_open(file, \u001b[39m*\u001b[39;49margs, \u001b[39m*\u001b[39;49m\u001b[39m*\u001b[39;49mkwargs)\n",
      "\u001b[0;31mFileNotFoundError\u001b[0m: [Errno 2] No such file or directory: '/data/trec_runfile_parallel.txt'"
     ]
    }
   ],
   "source": [
    "from tqdm import tqdm\n",
    "def generate_trec_runfile(ranking_results, run_identifier, output_file):\n",
    "    \"\"\"Generate a TREC runfile using the given ranking results.\"\"\"\n",
    "    with open(output_file, 'wb') as file:\n",
    "        for qid, passage_indices in ranking_results.items():\n",
    "            for rank, passage_idx in enumerate(passage_indices, 1):\n",
    "                # Construct the turn identifier from the qid\n",
    "                topic_id, turn_id = qid.split(\"_\")\n",
    "                turn_identifier = f\"{topic_id}_{turn_id}\"\n",
    "                \n",
    "                # Retrieve the document ID from the collection using the passage index\n",
    "                doc_id = dataset.iloc[passage_idx]['pid']\n",
    "                \n",
    "                # The BM25 score could be retrieved and used here, but for simplicity, \n",
    "                # we're using the rank as a negative score (to ensure descending order)\n",
    "                score = -rank\n",
    "                \n",
    "                # Write the formatted line to the file\n",
    "                file.write(f\"{turn_identifier} Q0 {doc_id} {rank} {score} {run_identifier}\\n\")\n",
    "\n",
    "\n",
    "# Retrieve top 1000 passages for each query in test_querys\n",
    "ranking_results_new = {}\n",
    "top_k = 1000\n",
    "run_id_new = \"BM25_integration_run\"\n",
    "\n",
    "\n",
    "def retrieve_rankings(row):\n",
    "    qid = row['qid']\n",
    "    query_text = row['query']\n",
    "    top_indices = bm25.get_top_n(query_text.split(), range(len(dataset)), n=top_k)\n",
    "    return qid, top_indices\n",
    "\n",
    "ranking_results_dict = {}\n",
    "for _, row in tqdm(test_querys.iterrows(), total=test_querys.shape[0]):\n",
    "    qid, top_indices = retrieve_rankings(row)\n",
    "    ranking_results_dict[qid] = top_indices\n",
    "\n",
    "# Generate the TREC runfile using the results\n",
    "output_filename_parallel = \"/data/trec_runfile_parallel.txt\"\n",
    "generate_trec_runfile(ranking_results_dict, run_id_new, output_filename_parallel)\n",
    "\n",
    "output_filename_parallel\n"
   ]
  }
 ],
 "metadata": {
  "kernelspec": {
   "display_name": "text",
   "language": "python",
   "name": "python3"
  },
  "language_info": {
   "codemirror_mode": {
    "name": "ipython",
    "version": 3
   },
   "file_extension": ".py",
   "mimetype": "text/x-python",
   "name": "python",
   "nbconvert_exporter": "python",
   "pygments_lexer": "ipython3",
   "version": "3.8.17"
  },
  "orig_nbformat": 4
 },
 "nbformat": 4,
 "nbformat_minor": 2
}
